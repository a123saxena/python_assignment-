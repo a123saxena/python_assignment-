{
 "cells": [
  {
   "cell_type": "code",
   "execution_count": 1,
   "metadata": {},
   "outputs": [
    {
     "name": "stdout",
     "output_type": "stream",
     "text": [
      "The original string  is :  Edyoda\n",
      "The reversed string is :  adoydE\n"
     ]
    }
   ],
   "source": [
    "str = \"Edyoda\"\n",
    "print (\"The original string  is : \",str)   \n",
    "reverse_String = \"\"  \n",
    "count = len(str) \n",
    "while count > 0:   \n",
    "    reverse_String += str[ count - 1 ] \n",
    "    count = count - 1\n",
    "print (\"The reversed string is : \",reverse_String)"
   ]
  }
 ],
 "metadata": {
  "kernelspec": {
   "display_name": "Python 3",
   "language": "python",
   "name": "python3"
  },
  "language_info": {
   "codemirror_mode": {
    "name": "ipython",
    "version": 3
   },
   "file_extension": ".py",
   "mimetype": "text/x-python",
   "name": "python",
   "nbconvert_exporter": "python",
   "pygments_lexer": "ipython3",
   "version": "3.12.0"
  }
 },
 "nbformat": 4,
 "nbformat_minor": 2
}
